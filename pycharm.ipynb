{
  "nbformat": 4,
  "nbformat_minor": 0,
  "metadata": {
    "colab": {
      "name": "pycharm.ipynb",
      "provenance": [],
      "collapsed_sections": []
    },
    "kernelspec": {
      "name": "python3",
      "display_name": "Python 3"
    },
    "language_info": {
      "name": "python"
    }
  },
  "cells": [
    {
      "cell_type": "code",
      "execution_count": null,
      "metadata": {
        "id": "FXCuobBzFVCX"
      },
      "outputs": [],
      "source": [
        "from flask import Flask,render_template,request\n",
        "import pickle\n",
        "import numpy as np\n",
        "import lightgbm\n",
        "\n",
        "model = pickle.load(open('LGBM_regression.pkl', 'rb'))\n",
        "app = Flask(__name__)\n",
        "\n",
        "@app.route('/')\n",
        "def index():\n",
        "    return render_template('index.html')\n",
        "\n",
        "@app.route('/predict',methods=['POST'])\n",
        "\n",
        "def predict_placement():\n",
        "    building_id = int(request.form.get('building_id'))\n",
        "    square_feet = float(request.form.get('square_feet'))\n",
        "    air_temperature = float(request.form.get('air_temperature'))\n",
        "    relative_humidity = float(request.form.get('relative_humidity'))\n",
        "\n",
        "    meter = 0\n",
        "    primary_use = 0\n",
        "    cloud_coverage =0.0\n",
        "    precip_depth_1_hr =0.0\n",
        "    sea_level_pressure = 1000.0\n",
        "    wind_direction = 140.0\n",
        "    wind_speed =3.1\n",
        "    hour= 2\n",
        "    dayofweek = 6\n",
        "    month = 1\n",
        "    day = 1\n",
        "    isHoliday = 1\n",
        "    season = 3\n",
        "    IsDayTime = 0\n",
        "\n",
        "\n",
        "\n",
        "    # prediction\n",
        "    log_energy_usage = model.predict(np.array([building_id,meter,primary_use,square_feet,air_temperature,cloud_coverage,precip_depth_1_hr,sea_level_pressure,wind_direction,wind_speed,hour,dayofweek,month,day,isHoliday,season,IsDayTime,relative_humidity]).reshape(1,3))\n",
        "    energy_consumed = np.expm1(log_energy_usage)\n",
        "\n",
        "    return render_template('index.html',result=energy_consumed)\n",
        "\n",
        "\n",
        "if __name__ == '__main__':\n",
        "    app.run(host='0.0.0.0',port=8080)"
      ]
    },
    {
      "cell_type": "code",
      "source": [
        "<!DOCTYPE html>\n",
        "<html lang=\"en\">\n",
        "<head>\n",
        "    <meta charset=\"UTF-8\">\n",
        "    <title>ASHRAE- Great Energy Predictor III</title>\n",
        "</head>\n",
        "<body>\n",
        "\n",
        "    <h1>ASHRAE- Great Energy Predictor III</h1>\n",
        "    {% if result %}\n",
        "        <p>{{ result }}</p>\n",
        "    {% endif %}\n",
        "    <form method=\"post\" action=\"/predict\">\n",
        "        <label>Building ID</label><br>\n",
        "        <input type=\"text\" name=\"building_id\"><br><br>\n",
        "\n",
        "        <label>square_feet of Building in float</label><br>\n",
        "        <input type=\"text\" name=\"square_feet\"><br><br>\n",
        "\n",
        "        <label>Air_temperature in Float</label><br>\n",
        "        <input type=\"text\" name=\"air_temperature\"><br><br>\n",
        "\n",
        "        <label>Relative_humidity in Float</label><br>\n",
        "        <input type=\"text\" name=\"relative_humidity\"><br><br>\n",
        "\n",
        "\n",
        "\n",
        "        <input type=\"submit\" value=\"Predict the Energy consumption by building\"><br><br>\n",
        "    </form>\n",
        "\n",
        "</body>\n",
        "</html>"
      ],
      "metadata": {
        "id": "6cPssRFxFWPx"
      },
      "execution_count": null,
      "outputs": []
    }
  ]
}